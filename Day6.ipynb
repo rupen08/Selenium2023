{
 "cells": [
  {
   "cell_type": "code",
   "execution_count": 1,
   "metadata": {
    "scrolled": true
   },
   "outputs": [
    {
     "name": "stdout",
     "output_type": "stream",
     "text": [
      "Requirement already satisfied: selenium in c:\\users\\rupen\\anaconda3\\lib\\site-packages (4.10.0)\n",
      "Requirement already satisfied: trio~=0.17 in c:\\users\\rupen\\anaconda3\\lib\\site-packages (from selenium) (0.22.2)\n",
      "Requirement already satisfied: certifi>=2021.10.8 in c:\\users\\rupen\\anaconda3\\lib\\site-packages (from selenium) (2023.7.22)\n",
      "Requirement already satisfied: trio-websocket~=0.9 in c:\\users\\rupen\\anaconda3\\lib\\site-packages (from selenium) (0.10.3)\n",
      "Requirement already satisfied: urllib3[socks]<3,>=1.26 in c:\\users\\rupen\\anaconda3\\lib\\site-packages (from selenium) (2.0.4)\n",
      "Requirement already satisfied: idna in c:\\users\\rupen\\anaconda3\\lib\\site-packages (from trio~=0.17->selenium) (2.10)\n",
      "Requirement already satisfied: sniffio in c:\\users\\rupen\\anaconda3\\lib\\site-packages (from trio~=0.17->selenium) (1.3.0)\n",
      "Requirement already satisfied: outcome in c:\\users\\rupen\\anaconda3\\lib\\site-packages (from trio~=0.17->selenium) (1.2.0)\n",
      "Requirement already satisfied: exceptiongroup>=1.0.0rc9; python_version < \"3.11\" in c:\\users\\rupen\\anaconda3\\lib\\site-packages (from trio~=0.17->selenium) (1.1.2)\n",
      "Requirement already satisfied: sortedcontainers in c:\\users\\rupen\\anaconda3\\lib\\site-packages (from trio~=0.17->selenium) (2.2.2)\n",
      "Requirement already satisfied: attrs>=20.1.0 in c:\\users\\rupen\\anaconda3\\lib\\site-packages (from trio~=0.17->selenium) (20.3.0)\n",
      "Requirement already satisfied: cffi>=1.14; os_name == \"nt\" and implementation_name != \"pypy\" in c:\\users\\rupen\\anaconda3\\lib\\site-packages (from trio~=0.17->selenium) (1.14.3)\n",
      "Requirement already satisfied: wsproto>=0.14 in c:\\users\\rupen\\anaconda3\\lib\\site-packages (from trio-websocket~=0.9->selenium) (1.2.0)\n",
      "Requirement already satisfied: pysocks!=1.5.7,<2.0,>=1.5.6; extra == \"socks\" in c:\\users\\rupen\\anaconda3\\lib\\site-packages (from urllib3[socks]<3,>=1.26->selenium) (1.7.1)\n",
      "Requirement already satisfied: pycparser in c:\\users\\rupen\\anaconda3\\lib\\site-packages (from cffi>=1.14; os_name == \"nt\" and implementation_name != \"pypy\"->trio~=0.17->selenium) (2.20)\n",
      "Requirement already satisfied: h11<1,>=0.9.0 in c:\\users\\rupen\\anaconda3\\lib\\site-packages (from wsproto>=0.14->trio-websocket~=0.9->selenium) (0.14.0)\n"
     ]
    }
   ],
   "source": [
    "!pip install selenium"
   ]
  },
  {
   "cell_type": "code",
   "execution_count": 3,
   "metadata": {},
   "outputs": [],
   "source": [
    "## Dropdown menu with Selector CLASS\n",
    "\n",
    "from selenium import webdriver\n",
    "from selenium.webdriver.chrome.service import Service\n",
    "from selenium.webdriver.common.keys import Keys\n",
    "from selenium.webdriver.common.by import By\n",
    "from selenium.webdriver.chrome.options import Options\n",
    "import time\n",
    "chrome_options = Options()\n",
    "chrome_options.add_experimental_option(\"detach\", True)\n",
    "\n",
    "## import one more class\n",
    "\n",
    "from selenium.webdriver.support.select import Select\n",
    "\n",
    "\n",
    "class Autoselect():\n",
    "    def autoselect(self):\n",
    "        driver = webdriver.Chrome(options=chrome_options)\n",
    "        # to go to the website\n",
    "        driver.get(\"https://www.yatra.com/\") \n",
    "        driver.maximize_window()\n",
    "\n",
    "        ## we have to use the same element for ore than 4 times, we will store it in a variable\n",
    "        ## this is without using the Select CLASS from selenium\n",
    "        depart = driver.find_element(By.ID, \"BE_flight_origin_city\")\n",
    "\n",
    "        depart.click()\n",
    "        time.sleep(4)\n",
    "\n",
    "        depart.clear()\n",
    "        time.sleep(4)\n",
    "\n",
    "        depart.clear()\n",
    "        time.sleep(4)\n",
    "\n",
    "        depart.send_keys(\"Mumbai\") ## its unable to find rhis element due to issues in website, chances are 50-50\n",
    "        time.sleep(3)\n",
    "        \n",
    "        depart.send_keys(Keys.ENTER)\n",
    "        time.sleep(3)\n",
    "\n",
    "        # will use a new variable to enter and find destination \n",
    "\n",
    "        destination = driver.find_element(By.ID, \"BE_flight_arrival_city\")\n",
    "\n",
    "        destination.clear()\n",
    "        time.sleep(3)\n",
    "\n",
    "        destination.send_keys(\"New\")\n",
    "        time.sleep(3)\n",
    "\n",
    "        ## auto find list variable location\n",
    "        auto = driver.find_elements(By.XPATH, \"//div[@class='viewport']//div[1]/li\")\n",
    "\n",
    "        for i in auto:\n",
    "            if \"New Delhi\" in i.text:\n",
    "                i.click()\n",
    "                break\n",
    "        \n",
    "        time.sleep(3)\n",
    "        driver.close()\n",
    "\n",
    "name1 = Autoselect()\n",
    "name1.autoselect()"
   ]
  }
 ],
 "metadata": {
  "kernelspec": {
   "display_name": "Python 3",
   "language": "python",
   "name": "python3"
  },
  "language_info": {
   "codemirror_mode": {
    "name": "ipython",
    "version": 3
   },
   "file_extension": ".py",
   "mimetype": "text/x-python",
   "name": "python",
   "nbconvert_exporter": "python",
   "pygments_lexer": "ipython3",
   "version": "3.8.5"
  }
 },
 "nbformat": 4,
 "nbformat_minor": 4
}
