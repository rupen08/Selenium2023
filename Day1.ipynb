{
 "cells": [
  {
   "cell_type": "code",
   "execution_count": 4,
   "metadata": {},
   "outputs": [
    {
     "name": "stdout",
     "output_type": "stream",
     "text": [
      "Requirement already satisfied: selenium in c:\\users\\rupen\\anaconda3\\lib\\site-packages (4.10.0)\n",
      "Requirement already satisfied: trio~=0.17 in c:\\users\\rupen\\anaconda3\\lib\\site-packages (from selenium) (0.22.2)\n",
      "Requirement already satisfied: certifi>=2021.10.8 in c:\\users\\rupen\\anaconda3\\lib\\site-packages (from selenium) (2023.7.22)\n",
      "Requirement already satisfied: urllib3[socks]<3,>=1.26 in c:\\users\\rupen\\anaconda3\\lib\\site-packages (from selenium) (2.0.4)\n",
      "Requirement already satisfied: trio-websocket~=0.9 in c:\\users\\rupen\\anaconda3\\lib\\site-packages (from selenium) (0.10.3)\n",
      "Requirement already satisfied: attrs>=20.1.0 in c:\\users\\rupen\\anaconda3\\lib\\site-packages (from trio~=0.17->selenium) (20.3.0)\n",
      "Requirement already satisfied: sniffio in c:\\users\\rupen\\anaconda3\\lib\\site-packages (from trio~=0.17->selenium) (1.3.0)\n",
      "Requirement already satisfied: cffi>=1.14; os_name == \"nt\" and implementation_name != \"pypy\" in c:\\users\\rupen\\anaconda3\\lib\\site-packages (from trio~=0.17->selenium) (1.14.3)\n",
      "Requirement already satisfied: idna in c:\\users\\rupen\\anaconda3\\lib\\site-packages (from trio~=0.17->selenium) (2.10)\n",
      "Requirement already satisfied: exceptiongroup>=1.0.0rc9; python_version < \"3.11\" in c:\\users\\rupen\\anaconda3\\lib\\site-packages (from trio~=0.17->selenium) (1.1.2)\n",
      "Requirement already satisfied: sortedcontainers in c:\\users\\rupen\\anaconda3\\lib\\site-packages (from trio~=0.17->selenium) (2.2.2)\n",
      "Requirement already satisfied: outcome in c:\\users\\rupen\\anaconda3\\lib\\site-packages (from trio~=0.17->selenium) (1.2.0)\n",
      "Requirement already satisfied: pysocks!=1.5.7,<2.0,>=1.5.6; extra == \"socks\" in c:\\users\\rupen\\anaconda3\\lib\\site-packages (from urllib3[socks]<3,>=1.26->selenium) (1.7.1)\n",
      "Requirement already satisfied: wsproto>=0.14 in c:\\users\\rupen\\anaconda3\\lib\\site-packages (from trio-websocket~=0.9->selenium) (1.2.0)\n",
      "Requirement already satisfied: pycparser in c:\\users\\rupen\\anaconda3\\lib\\site-packages (from cffi>=1.14; os_name == \"nt\" and implementation_name != \"pypy\"->trio~=0.17->selenium) (2.20)\n",
      "Requirement already satisfied: h11<1,>=0.9.0 in c:\\users\\rupen\\anaconda3\\lib\\site-packages (from wsproto>=0.14->trio-websocket~=0.9->selenium) (0.14.0)\n"
     ]
    }
   ],
   "source": [
    "!pip install selenium"
   ]
  },
  {
   "cell_type": "code",
   "execution_count": 5,
   "metadata": {},
   "outputs": [],
   "source": [
    "from selenium import webdriver\n",
    "from selenium.webdriver.chrome.service import Service\n",
    "from selenium.webdriver.common.by import By\n",
    "from selenium.webdriver.chrome.options import Options\n"
   ]
  },
  {
   "cell_type": "markdown",
   "metadata": {},
   "source": [
    "1) we have to use \"r\" in front of a path otherwise it will not take just one backslash\n",
    "2) also this is not an effective way as the version of Chrome Driver will updating and will need to be manually \n",
    "   updated each time\n",
    "   \n",
    "    method 1: manually update the driver \n",
    "    \n",
    "    driver = webdriver.Chrome(r\"C:\\Users\\rupen\\Downloads\\chromedriver_win32\\chromedriver.exe\")\n",
    "    \n",
    "3) instead, we use Webdriver manager, just google ---> https://pypi.org/project/webdriver-manager/\n",
    "    \n",
    "    method 2: automatic driver update with 3rd party webdriver manager\n",
    "    \n",
    "    from webdriver_manager.chrome import ChromeDriverManager\n",
    "\n",
    "BUT in selenium version 4.6.0 and above, Webdriver manager is also not required\n",
    "\n",
    "selenium it self has in built selenium manager\n",
    "https://stackoverflow.com/questions/76453996/purpose-of-webdriver-manager/76455537#76455537\n",
    "\n",
    "\n"
   ]
  },
  {
   "cell_type": "code",
   "execution_count": 6,
   "metadata": {},
   "outputs": [],
   "source": [
    "# to leave the browser open\n",
    "# this will keep the browser open\n",
    "\n",
    "chrome_options = Options()\n",
    "chrome_options.add_experimental_option(\"detach\", True)\n",
    "\n",
    "# so simply use,\n",
    "    # method 3: Selenium has its own Selenium manager in built from now onwards\n",
    "    \n",
    "driver = webdriver.Chrome(options=chrome_options)     \n",
    "\n",
    "#.get(\"\") to reach out to URL\n",
    "\n",
    "driver.get(\"https://www.google.com/\")  \n",
    "\n",
    "# For maximizing window\n",
    "\n",
    "driver.maximize_window()\n"
   ]
  },
  {
   "cell_type": "code",
   "execution_count": null,
   "metadata": {},
   "outputs": [],
   "source": []
  }
 ],
 "metadata": {
  "kernelspec": {
   "display_name": "Python 3",
   "language": "python",
   "name": "python3"
  },
  "language_info": {
   "codemirror_mode": {
    "name": "ipython",
    "version": 3
   },
   "file_extension": ".py",
   "mimetype": "text/x-python",
   "name": "python",
   "nbconvert_exporter": "python",
   "pygments_lexer": "ipython3",
   "version": "3.8.5"
  }
 },
 "nbformat": 4,
 "nbformat_minor": 4
}
