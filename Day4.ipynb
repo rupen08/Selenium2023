{
 "cells": [
  {
   "cell_type": "markdown",
   "metadata": {},
   "source": [
    "### Some most common user Browser methods and Property"
   ]
  },
  {
   "cell_type": "code",
   "execution_count": 1,
   "metadata": {
    "scrolled": true
   },
   "outputs": [
    {
     "name": "stdout",
     "output_type": "stream",
     "text": [
      "Requirement already satisfied: selenium in c:\\users\\rupen\\anaconda3\\lib\\site-packages (4.10.0)\n",
      "Requirement already satisfied: trio-websocket~=0.9 in c:\\users\\rupen\\anaconda3\\lib\\site-packages (from selenium) (0.10.3)\n",
      "Requirement already satisfied: trio~=0.17 in c:\\users\\rupen\\anaconda3\\lib\\site-packages (from selenium) (0.22.2)\n",
      "Requirement already satisfied: urllib3[socks]<3,>=1.26 in c:\\users\\rupen\\anaconda3\\lib\\site-packages (from selenium) (2.0.4)\n",
      "Requirement already satisfied: certifi>=2021.10.8 in c:\\users\\rupen\\anaconda3\\lib\\site-packages (from selenium) (2023.7.22)\n",
      "Requirement already satisfied: exceptiongroup in c:\\users\\rupen\\anaconda3\\lib\\site-packages (from trio-websocket~=0.9->selenium) (1.1.2)\n",
      "Requirement already satisfied: wsproto>=0.14 in c:\\users\\rupen\\anaconda3\\lib\\site-packages (from trio-websocket~=0.9->selenium) (1.2.0)\n",
      "Requirement already satisfied: sniffio in c:\\users\\rupen\\anaconda3\\lib\\site-packages (from trio~=0.17->selenium) (1.3.0)\n",
      "Requirement already satisfied: idna in c:\\users\\rupen\\anaconda3\\lib\\site-packages (from trio~=0.17->selenium) (2.10)\n",
      "Requirement already satisfied: cffi>=1.14; os_name == \"nt\" and implementation_name != \"pypy\" in c:\\users\\rupen\\anaconda3\\lib\\site-packages (from trio~=0.17->selenium) (1.14.3)\n",
      "Requirement already satisfied: sortedcontainers in c:\\users\\rupen\\anaconda3\\lib\\site-packages (from trio~=0.17->selenium) (2.2.2)\n",
      "Requirement already satisfied: outcome in c:\\users\\rupen\\anaconda3\\lib\\site-packages (from trio~=0.17->selenium) (1.2.0)\n",
      "Requirement already satisfied: attrs>=20.1.0 in c:\\users\\rupen\\anaconda3\\lib\\site-packages (from trio~=0.17->selenium) (20.3.0)\n",
      "Requirement already satisfied: pysocks!=1.5.7,<2.0,>=1.5.6; extra == \"socks\" in c:\\users\\rupen\\anaconda3\\lib\\site-packages (from urllib3[socks]<3,>=1.26->selenium) (1.7.1)\n",
      "Requirement already satisfied: h11<1,>=0.9.0 in c:\\users\\rupen\\anaconda3\\lib\\site-packages (from wsproto>=0.14->trio-websocket~=0.9->selenium) (0.14.0)\n",
      "Requirement already satisfied: pycparser in c:\\users\\rupen\\anaconda3\\lib\\site-packages (from cffi>=1.14; os_name == \"nt\" and implementation_name != \"pypy\"->trio~=0.17->selenium) (2.20)\n"
     ]
    }
   ],
   "source": [
    "!pip install selenium"
   ]
  },
  {
   "cell_type": "code",
   "execution_count": 4,
   "metadata": {},
   "outputs": [],
   "source": [
    "from selenium import webdriver\n",
    "from selenium.webdriver.chrome.service import Service\n",
    "from selenium.webdriver.common.by import By\n",
    "from selenium.webdriver.chrome.options import Options\n",
    "chrome_options = Options()\n",
    "chrome_options.add_experimental_option(\"detach\", True)\n",
    "import time "
   ]
  },
  {
   "cell_type": "code",
   "execution_count": 5,
   "metadata": {},
   "outputs": [
    {
     "name": "stdout",
     "output_type": "stream",
     "text": [
      "https://www.geeksforgeeks.org/\n",
      "GeeksforGeeks | A computer science portal for geeks\n"
     ]
    }
   ],
   "source": [
    "## here we are using most used browser methods/properties to perform some actions\n",
    "\n",
    "class Browsermethods():\n",
    "    def manymethods(self):\n",
    "        driver = webdriver.Chrome(options=chrome_options)\n",
    "        # to go to the website\n",
    "        driver.get(\"https://www.geeksforgeeks.org/\") \n",
    "        # to maximize the chrome window\n",
    "        driver.maximize_window()\n",
    "        # to print the surrent URL in the terminal, it is not a method but a property\n",
    "        print(driver.current_url)\n",
    "        # to print the title of the page in the terminal, this is also a property\n",
    "        print(driver.title)\n",
    "        # going and clicking on a page\n",
    "        driver.find_element(By.XPATH, \"//a[@href='https://www.geeksforgeeks.org/python-programming-language/?ref=shm_outind']\").click()\n",
    "        time.sleep(4)\n",
    "        # back is to go back on the web page\n",
    "        driver.back()\n",
    "        time.sleep(4)\n",
    "        # forward is to go forward on the web page\n",
    "        driver.forward()\n",
    "        time.sleep(4)\n",
    "        # this will refresh the browser\n",
    "        driver.refresh()\n",
    "        # to minimize the browzer\n",
    "        time.sleep(2)\n",
    "        driver.minimize_window()\n",
    "        # to close one window\n",
    "        driver.close()\n",
    "        # this will close all open windows by selenium\n",
    "        driver.quit()\n",
    "\n",
    "name1 = Browsermethods()\n",
    "\n",
    "name1.manymethods()"
   ]
  }
 ],
 "metadata": {
  "kernelspec": {
   "display_name": "Python 3",
   "language": "python",
   "name": "python3"
  },
  "language_info": {
   "codemirror_mode": {
    "name": "ipython",
    "version": 3
   },
   "file_extension": ".py",
   "mimetype": "text/x-python",
   "name": "python",
   "nbconvert_exporter": "python",
   "pygments_lexer": "ipython3",
   "version": "3.8.5"
  }
 },
 "nbformat": 4,
 "nbformat_minor": 4
}
